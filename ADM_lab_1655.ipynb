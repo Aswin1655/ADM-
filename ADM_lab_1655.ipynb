{
  "nbformat": 4,
  "nbformat_minor": 0,
  "metadata": {
    "colab": {
      "provenance": [],
      "authorship_tag": "ABX9TyMPxkS2J8k+4lUgam3Q67sk",
      "include_colab_link": true
    },
    "kernelspec": {
      "name": "python3",
      "display_name": "Python 3"
    },
    "language_info": {
      "name": "python"
    }
  },
  "cells": [
    {
      "cell_type": "markdown",
      "metadata": {
        "id": "view-in-github",
        "colab_type": "text"
      },
      "source": [
        "<a href=\"https://colab.research.google.com/github/Aswin1655/ADM-/blob/main/ADM_lab_1655.ipynb\" target=\"_parent\"><img src=\"https://colab.research.google.com/assets/colab-badge.svg\" alt=\"Open In Colab\"/></a>"
      ]
    },
    {
      "cell_type": "code",
      "source": [
        "import pandas as pd\n",
        "data = {\n",
        "    \"Order_ID\": [1001, 1002, 1003, 1004],\n",
        "    \"Product\": [\"Laptop\", \"Phone\", \"Tablet\", \"Laptop\"],\n",
        "    \"Price ($)\": [1000, None, 500, 1200],\n",
        "    \"Quantity\": [1, 2, None, 1],\n",
        "    \"Discount (%)\": [10, 5, 0, None]\n",
        "}\n",
        "\n",
        "df = pd.DataFrame(data)\n",
        "print(df.head(3))"
      ],
      "metadata": {
        "colab": {
          "base_uri": "https://localhost:8080/",
          "height": 0
        },
        "id": "8pFvZyI2hiX7",
        "outputId": "c2411015-20a9-40d3-89db-c6d97a89fad7"
      },
      "execution_count": 13,
      "outputs": [
        {
          "output_type": "stream",
          "name": "stdout",
          "text": [
            "   Order_ID Product  Price ($)  Quantity  Discount (%)\n",
            "0      1001  Laptop     1000.0       1.0          10.0\n",
            "1      1002   Phone        NaN       2.0           5.0\n",
            "2      1003  Tablet      500.0       NaN           0.0\n"
          ]
        }
      ]
    },
    {
      "cell_type": "code",
      "source": [
        "print(df.isnull().sum())"
      ],
      "metadata": {
        "colab": {
          "base_uri": "https://localhost:8080/",
          "height": 0
        },
        "id": "o-UuTC6ahvad",
        "outputId": "8398a9f6-1023-49a9-e965-b625c9545387"
      },
      "execution_count": 14,
      "outputs": [
        {
          "output_type": "stream",
          "name": "stdout",
          "text": [
            "Order_ID        0\n",
            "Product         0\n",
            "Price ($)       1\n",
            "Quantity        1\n",
            "Discount (%)    1\n",
            "dtype: int64\n"
          ]
        }
      ]
    },
    {
      "cell_type": "code",
      "source": [
        "df['Price ($)'].fillna(df['Price ($)'].mean(), inplace=True)\n",
        "df['Quantity'].fillna(1, inplace=True)"
      ],
      "metadata": {
        "colab": {
          "base_uri": "https://localhost:8080/",
          "height": 0
        },
        "id": "IV2nWptXhw2_",
        "outputId": "40242ed2-4de0-4de6-9afb-81b375049f33"
      },
      "execution_count": 15,
      "outputs": [
        {
          "output_type": "stream",
          "name": "stderr",
          "text": [
            "<ipython-input-15-1774c1e4ec40>:1: FutureWarning: A value is trying to be set on a copy of a DataFrame or Series through chained assignment using an inplace method.\n",
            "The behavior will change in pandas 3.0. This inplace method will never work because the intermediate object on which we are setting values always behaves as a copy.\n",
            "\n",
            "For example, when doing 'df[col].method(value, inplace=True)', try using 'df.method({col: value}, inplace=True)' or df[col] = df[col].method(value) instead, to perform the operation inplace on the original object.\n",
            "\n",
            "\n",
            "  df['Price ($)'].fillna(df['Price ($)'].mean(), inplace=True)\n",
            "<ipython-input-15-1774c1e4ec40>:2: FutureWarning: A value is trying to be set on a copy of a DataFrame or Series through chained assignment using an inplace method.\n",
            "The behavior will change in pandas 3.0. This inplace method will never work because the intermediate object on which we are setting values always behaves as a copy.\n",
            "\n",
            "For example, when doing 'df[col].method(value, inplace=True)', try using 'df.method({col: value}, inplace=True)' or df[col] = df[col].method(value) instead, to perform the operation inplace on the original object.\n",
            "\n",
            "\n",
            "  df['Quantity'].fillna(1, inplace=True)\n"
          ]
        }
      ]
    },
    {
      "cell_type": "code",
      "source": [
        "df['Revenue'] = (df['Price ($)'] * df['Quantity']) - df['Discount (%)'].fillna(0)\n",
        "\n",
        "print(df[['Order_ID', 'Revenue']])"
      ],
      "metadata": {
        "colab": {
          "base_uri": "https://localhost:8080/",
          "height": 0
        },
        "id": "Lg3j0T4Gh4qR",
        "outputId": "9bc17b74-d2cb-4350-ac0e-18754d327aca"
      },
      "execution_count": 16,
      "outputs": [
        {
          "output_type": "stream",
          "name": "stdout",
          "text": [
            "   Order_ID  Revenue\n",
            "0      1001    990.0\n",
            "1      1002   1795.0\n",
            "2      1003    500.0\n",
            "3      1004   1200.0\n"
          ]
        }
      ]
    },
    {
      "cell_type": "code",
      "source": [
        "#draw a pie chart of given column\n",
        "import matplotlib.pyplot as plt\n",
        "product_counts = df['Product'].value_counts()\n",
        "plt.figure(figsize=(6, 6))\n",
        "plt.pie(product_counts, labels=product_counts.index, autopct='%1.1f%%', startangle=140, colors=['lightblue', 'lightpink', 'yellow', 'gold'])\n",
        "plt.title('Product Distribution')\n",
        "plt.show()\n"
      ],
      "metadata": {
        "colab": {
          "base_uri": "https://localhost:8080/",
          "height": 521
        },
        "id": "I3Nl1WV7h_dh",
        "outputId": "e5604e4c-d328-4e8f-c270-b04652634978"
      },
      "execution_count": 18,
      "outputs": [
        {
          "output_type": "display_data",
          "data": {
            "text/plain": [
              "<Figure size 600x600 with 1 Axes>"
            ],
            "image/png": "[encoded data removed]"
          },
          "metadata": {}
        }
      ]
    }
  ]
}